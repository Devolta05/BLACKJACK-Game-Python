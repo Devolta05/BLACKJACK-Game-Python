{
 "cells": [
  {
   "cell_type": "code",
   "execution_count": null,
   "metadata": {},
   "outputs": [],
   "source": [
    "import random\n",
    "suits = ['Hearts','Diamond','Clubs','Spades']\n",
    "ranks = ['Two', 'Three', 'Four', 'Five', 'Six', 'Seven', 'Eight', 'Nine', 'Ten', 'Jack', 'Queen', 'King', 'Ace']\n",
    "values = {'Two':2, 'Three':3, 'Four':4, 'Five':5, 'Six':6, 'Seven':7, 'Eight':8, 'Nine':9, 'Ten':10, 'Jack':10,\n",
    "         'Queen':10, 'King':10, 'Ace':11}\n",
    "playing = True"
   ]
  },
  {
   "cell_type": "code",
   "execution_count": null,
   "metadata": {},
   "outputs": [],
   "source": [
    "class Card():\n",
    "    \n",
    "    def __init__(self,suit,rank):\n",
    "        self.suit=suit\n",
    "        self.rank=rank\n",
    "    \n",
    "    def __str__(self):\n",
    "        return f\"{self.rank} of {self.suit}\""
   ]
  },
  {
   "cell_type": "code",
   "execution_count": null,
   "metadata": {},
   "outputs": [],
   "source": [
    "class Deck():\n",
    "    \n",
    "    def __init__(self):\n",
    "        self.deck = []  # start with an empty list\n",
    "        for suit in suits:\n",
    "            for rank in ranks:\n",
    "                self.deck.append(Card(suit,rank))\n",
    "              \n",
    "    def __str__(self):\n",
    "        stringdeck=''\n",
    "        for cards_in_deck in self.deck:\n",
    "            string_deck += \"\\n\" + cards.__str__()\n",
    "        return \"The Deck Has :\" + string_deck +f\"\\nand {len(self.deck)} cards\"\n",
    "\n",
    "    def shuffle(self):\n",
    "        random.shuffle(self.deck)\n",
    "        \n",
    "    def deal(self):\n",
    "        dealed_card = self.deck.pop()\n",
    "        return dealed_card"
   ]
  },
  {
   "cell_type": "code",
   "execution_count": null,
   "metadata": {},
   "outputs": [],
   "source": [
    "class Hand():\n",
    "    def __init__(self):\n",
    "        # Initialisation of Hand without any card\n",
    "        self.card=[] \n",
    "        self.value=0\n",
    "        self.ace=0\n",
    "    \n",
    "    def add_card(self,passed_card):\n",
    "        self.card.append(passed_card)\n",
    "        self.value+=values[passed_card.rank]\n",
    "        if passed_card.rank=='Ace':\n",
    "            self.ace+=1\n",
    "    \n",
    "    def adjust_of_aces():\n",
    "        while self.ace!=0 and self.value>21:\n",
    "            self.value-=10\n",
    "            self.ace-=1"
   ]
  },
  {
   "cell_type": "code",
   "execution_count": null,
   "metadata": {},
   "outputs": [],
   "source": [
    "class Chips():\n",
    "    \n",
    "    def __init__(self,total=100):\n",
    "        self.total = total  # This can be set to a default value or supplied by a user input\n",
    "        self.bet = 0\n",
    "        \n",
    "    def win_bet(self):\n",
    "        self.total+=(self.bet*2)\n",
    "    \n",
    "    def lose_bet(self):\n",
    "        self.total-=self.bet"
   ]
  },
  {
   "cell_type": "code",
   "execution_count": null,
   "metadata": {},
   "outputs": [],
   "source": [
    "def take_bet(chips):\n",
    "    while True:\n",
    "        try:\n",
    "            chips.bet=int(input(\"Enter Amount to bet:\"))\n",
    "        except:\n",
    "            print(\"Please try again !\")\n",
    "            continue\n",
    "        else:\n",
    "            if chips.bet>chips.total:\n",
    "                print(\"Srry ur amount of bet is more than ur balance left...\")\n",
    "            else:\n",
    "                print(f\"{chips.bet} is the amount u betted ..\")\n",
    "                break"
   ]
  },
  {
   "cell_type": "code",
   "execution_count": null,
   "metadata": {},
   "outputs": [],
   "source": [
    "def hit(deck,hand):\n",
    "    card_asked=deck.deal()\n",
    "    hand.add_card(card_asked)\n",
    "    if card_asked.rank==\"Ace\" and hand.value>21:\n",
    "        hand.adjust_of_aces()"
   ]
  },
  {
   "cell_type": "code",
   "execution_count": null,
   "metadata": {},
   "outputs": [],
   "source": [
    "def hit_or_stand(deck,hand):\n",
    "    global playing  # to control an upcoming while loop\n",
    "    while True:\n",
    "        choice=input(\"Would u like to HIT[H] or STAND[S] : \")\n",
    "        if choice.upper()==\"H\":\n",
    "            hit(deck,hand)\n",
    "        elif choice.upper()==\"S\":\n",
    "            print(\"Dealer Playing\")\n",
    "            playing=False\n",
    "        else:\n",
    "            continue\n",
    "        break"
   ]
  },
  {
   "cell_type": "code",
   "execution_count": null,
   "metadata": {},
   "outputs": [],
   "source": [
    "def show_some(player,dealer):\n",
    "    print(\"\\nDealer's Hand:\")\n",
    "    print(\" <card hidden>\")\n",
    "    print('',dealer.card[1])  \n",
    "    print(\"\\nPlayer's Hand:\", *player.card, sep='\\n ')\n",
    "    \n",
    "def show_all(player,dealer):\n",
    "    print(\"\\nDealer's Hand:\", *dealer.card, sep='\\n ')\n",
    "    print(\"Dealer's Hand =\",dealer.value)\n",
    "    print(\"\\nPlayer's Hand:\", *player.card, sep='\\n ')\n",
    "    print(\"Player's Hand =\",player.value)"
   ]
  },
  {
   "cell_type": "code",
   "execution_count": null,
   "metadata": {},
   "outputs": [],
   "source": [
    "def player_busts(player,dealer,chips):\n",
    "    print(\"\\nPlayer Busts!!\")\n",
    "    chips.lose_bet()\n",
    "\n",
    "def player_wins(player,dealer,chips):\n",
    "    print(\"\\nPlayer Wins!\")\n",
    "    chips.win_bet()\n",
    "    \n",
    "def dealer_busts(player,dealer,chips):\n",
    "    print(\"\\nDealer Busts!!\")\n",
    "    chips.win_bet()\n",
    "    \n",
    "def dealer_wins(player,dealer,chips):\n",
    "    print(\"\\nDealer Wins!\")\n",
    "    chips.lose_bet()\n",
    "    \n",
    "def push(player,dealer):\n",
    "    print(\"\\nDealer and Player tie! It's a push.\")"
   ]
  },
  {
   "cell_type": "code",
   "execution_count": null,
   "metadata": {},
   "outputs": [],
   "source": [
    "while True:\n",
    "    print(\"@@ !! Welcome To BLACKJACK GAME !! @@\")\n",
    "    print(\"Get as close to 21 as you can without going over!\\n\\\n",
    "    Dealer hits until she reaches 17. Aces count as 1 or 11.\")\n",
    "    \n",
    "    play_deck = Deck()\n",
    "    play_deck.shuffle()\n",
    "    \n",
    "    player_hand = Hand()\n",
    "    dealer_hand = Hand()\n",
    "    \n",
    "    for i in [0,1]:\n",
    "        player_hand.add_card(play_deck.deal())\n",
    "        dealer_hand.add_card(play_deck.deal())\n",
    "        \n",
    "#     total_value = int(input(\"Enter Total Amount You Want To Play With : \"))\n",
    "    play_chips = Chips()    \n",
    "    \n",
    "    take_bet(play_chips)\n",
    "    \n",
    "    show_some(player_hand,dealer_hand)\n",
    "\n",
    "    \n",
    "    while playing:  \n",
    "        \n",
    "        hit_or_stand(play_deck,player_hand)        \n",
    "        \n",
    "        show_some(player_hand,dealer_hand)\n",
    "        \n",
    "        if player_hand.value > 21:\n",
    "            player_busts(player_hand,dealer_hand,play_chips)     \n",
    "            break\n",
    "\n",
    "    if player_hand.value <= 21:\n",
    "        while dealer_hand.value <= 17:\n",
    "            hit(play_deck,dealer_hand)\n",
    "                \n",
    "        show_all(player_hand,dealer_hand)\n",
    "        \n",
    "        if dealer_hand.value > 21:\n",
    "            dealer_busts(player_hand,dealer_hand,play_chips)\n",
    "\n",
    "        elif dealer_hand.value > player_hand.value:\n",
    "            dealer_wins(player_hand,dealer_hand,play_chips)\n",
    "\n",
    "        elif dealer_hand.value < player_hand.value:\n",
    "            player_wins(player_hand,dealer_hand,play_chips)\n",
    "\n",
    "        else:\n",
    "            push(player_hand,dealer_hand)   \n",
    "    \n",
    "    print(\"\\nPlayer's winnings stand at\",play_chips.total)\n",
    "    \n",
    "    play_choice = input(\"Wud u like to play again ? (Y/N) \")\n",
    "    if play_choice.lower() == 'y':\n",
    "        playing = True\n",
    "        continue\n",
    "    else:\n",
    "        print(\"Thanks For Playing !!\")\n",
    "        break"
   ]
  },
  {
   "cell_type": "code",
   "execution_count": null,
   "metadata": {},
   "outputs": [],
   "source": []
  },
  {
   "cell_type": "code",
   "execution_count": null,
   "metadata": {},
   "outputs": [],
   "source": []
  }
 ],
 "metadata": {
  "kernelspec": {
   "display_name": "Python 3",
   "language": "python",
   "name": "python3"
  },
  "language_info": {
   "codemirror_mode": {
    "name": "ipython",
    "version": 3
   },
   "file_extension": ".py",
   "mimetype": "text/x-python",
   "name": "python",
   "nbconvert_exporter": "python",
   "pygments_lexer": "ipython3",
   "version": "3.7.4"
  }
 },
 "nbformat": 4,
 "nbformat_minor": 2
}
